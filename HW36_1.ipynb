{
 "cells": [
  {
   "cell_type": "code",
   "execution_count": 1,
   "id": "17b65e65",
   "metadata": {},
   "outputs": [
    {
     "name": "stdout",
     "output_type": "stream",
     "text": [
      "    Hours  Scores\n",
      "0     2.5      21\n",
      "1     5.1      47\n",
      "2     3.2      27\n",
      "3     8.5      75\n",
      "4     3.5      30\n",
      "5     1.5      20\n",
      "6     9.2      88\n",
      "7     5.5      60\n",
      "8     8.3      81\n",
      "9     2.7      25\n",
      "10    7.7      85\n",
      "11    5.9      62\n",
      "12    4.5      41\n",
      "13    3.3      42\n",
      "14    1.1      17\n",
      "15    8.9      95\n",
      "16    2.5      30\n",
      "17    1.9      24\n",
      "18    6.1      67\n",
      "19    7.4      69\n",
      "20    2.7      30\n",
      "21    4.8      54\n",
      "22    3.8      35\n",
      "23    6.9      76\n",
      "24    7.8      86\n"
     ]
    }
   ],
   "source": [
    "import pandas as pd\n",
    "import numpy as np\n",
    "from sklearn.linear_model import LinearRegression\n",
    "from sklearn.model_selection import train_test_split\n",
    "\n",
    "data = pd.read_csv('student_scores.csv')\n",
    "print(data)\n",
    "\n",
    "X = data['Hours']\n",
    "y = data['Scores']\n",
    "\n",
    "X_array = np.array(X).reshape(-1, 1)\n",
    "y_array = np.array(y)"
   ]
  },
  {
   "cell_type": "code",
   "execution_count": 2,
   "id": "9506abe3",
   "metadata": {},
   "outputs": [
    {
     "name": "stdout",
     "output_type": "stream",
     "text": [
      "Cross Validation Scores:  [0.90344876 0.91940607]\n",
      "Average CV Score:  0.9114274139104588\n",
      "Number of CV Scores used in Average:  2\n",
      "Cross Validation Scores:  [0.90059648 0.95290326 0.93422769]\n",
      "Average CV Score:  0.9292424775400273\n",
      "Number of CV Scores used in Average:  3\n",
      "Cross Validation Scores:  [0.89132879 0.94943331 0.94260326 0.92777661]\n",
      "Average CV Score:  0.9277854925306008\n",
      "Number of CV Scores used in Average:  4\n",
      "Cross Validation Scores:  [0.78626426 0.97891923 0.93182467 0.96604831 0.9273292 ]\n",
      "Average CV Score:  0.9180771341891051\n",
      "Number of CV Scores used in Average:  5\n",
      "\n",
      "K-Fold Validation\n",
      "best_score = 0.9292424775400273 \n",
      "best_n_splits = 3\n"
     ]
    }
   ],
   "source": [
    "# K-Fold Validation    \n",
    "from sklearn.model_selection import KFold, cross_val_score\n",
    "\n",
    "model1 = LinearRegression()\n",
    "\n",
    "best_score=0\n",
    "for i in range(2,6):\n",
    "    kfold_validation = KFold(n_splits=i)\n",
    "    mod_score_k = cross_val_score(model1, X_array, y_array, cv=kfold_validation)\n",
    "    print(\"Cross Validation Scores: \", mod_score_k)\n",
    "    print(\"Average CV Score: \", mod_score_k.mean())\n",
    "    print(\"Number of CV Scores used in Average: \", len(mod_score_k))\n",
    "    if best_score < mod_score_k.mean():\n",
    "        best_score = mod_score_k.mean()\n",
    "        best_n_splits = i\n",
    "print('\\nK-Fold Validation\\nbest_score =', best_score, '\\nbest_n_splits =', best_n_splits)"
   ]
  },
  {
   "cell_type": "code",
   "execution_count": 3,
   "id": "abc77248",
   "metadata": {},
   "outputs": [
    {
     "name": "stdout",
     "output_type": "stream",
     "text": [
      "Cross Validation Scores:  [0.94637315 0.95874026]\n",
      "Average CV Score:  0.9525567018769009\n",
      "Number of CV Scores used in Average:  2\n",
      "Cross Validation Scores:  [0.9567541  0.92807012 0.91382288]\n",
      "Average CV Score:  0.9328823665040341\n",
      "Number of CV Scores used in Average:  3\n",
      "Cross Validation Scores:  [0.92342962 0.88373902 0.94361099 0.92949735]\n",
      "Average CV Score:  0.9200692448339535\n",
      "Number of CV Scores used in Average:  4\n",
      "Cross Validation Scores:  [0.91441841 0.90802033 0.94624029 0.89815467 0.93611409]\n",
      "Average CV Score:  0.9205895568768714\n",
      "Number of CV Scores used in Average:  5\n",
      "\n",
      "Shuffle Split CV\n",
      "best_score = 0.9525567018769009 \n",
      "best_n_splits = 2\n"
     ]
    }
   ],
   "source": [
    "# Shuffle Split CV\n",
    "from sklearn.model_selection import ShuffleSplit, cross_val_score\n",
    "\n",
    "model2 = LinearRegression()  \n",
    "\n",
    "best_score=0\n",
    "for i in range(2,6):\n",
    "    shuff_spl_validation = ShuffleSplit(train_size=0.6, test_size=0.3, n_splits=i)\n",
    "    mod_score_shsp = cross_val_score(model2, X_array, y_array, cv = shuff_spl_validation)\n",
    "    print(\"Cross Validation Scores: \", mod_score_shsp)\n",
    "    print(\"Average CV Score: \", mod_score_shsp.mean())\n",
    "    print(\"Number of CV Scores used in Average: \", len(mod_score_shsp))\n",
    "    if best_score < mod_score_shsp.mean():\n",
    "        best_score = mod_score_shsp.mean()\n",
    "        best_n_splits = i\n",
    "print('\\nShuffle Split CV\\nbest_score =', best_score, '\\nbest_n_splits =', best_n_splits)\n"
   ]
  },
  {
   "cell_type": "code",
   "execution_count": null,
   "id": "9b886c6b",
   "metadata": {},
   "outputs": [],
   "source": []
  }
 ],
 "metadata": {
  "kernelspec": {
   "display_name": "Python 3 (ipykernel)",
   "language": "python",
   "name": "python3"
  },
  "language_info": {
   "codemirror_mode": {
    "name": "ipython",
    "version": 3
   },
   "file_extension": ".py",
   "mimetype": "text/x-python",
   "name": "python",
   "nbconvert_exporter": "python",
   "pygments_lexer": "ipython3",
   "version": "3.11.1"
  }
 },
 "nbformat": 4,
 "nbformat_minor": 5
}
